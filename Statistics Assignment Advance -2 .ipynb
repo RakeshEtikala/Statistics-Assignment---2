{
 "cells": [
  {
   "cell_type": "markdown",
   "id": "963f66b9-7a09-4924-ae61-7985aaa8553e",
   "metadata": {},
   "source": [
    "Q1: What are the Probability Mass Function (PMF) and Probability Density Function (PDF)? Explain with \n",
    "an example"
   ]
  },
  {
   "cell_type": "markdown",
   "id": "32838ef5-0356-460f-8030-dfb08117329e",
   "metadata": {},
   "source": [
    "1. **Probability Density Function** (pdf)- Its shows basically about continuous data.\n",
    "\n",
    " If our data is in continuous random variable and if we want to check distribution of that data we use probability density function. \n",
    "\n",
    "e.g.: -  Height of students, Weight of people, But never it will be zero"
   ]
  },
  {
   "cell_type": "markdown",
   "id": "d511f7a5-ea06-4d77-9a00-a96e9a63dc04",
   "metadata": {},
   "source": [
    "2. **Probability Mass function** - (PMF) - Distribution of a discrete random variable.\n",
    "\n",
    "If our data is in discrete random variable and if we want to check distribution of that data we use probability density function. \n",
    "\n",
    "e.g.:- rolling a dice {1,2,3,4,5,6,7}"
   ]
  },
  {
   "cell_type": "markdown",
   "id": "b992aa3e-1b64-4806-8ba0-341b9ce1a23d",
   "metadata": {},
   "source": [
    "Q2: What is Cumulative Density Function (CDF)? Explain with an example. Why CDF is used?"
   ]
  },
  {
   "cell_type": "markdown",
   "id": "6a33b545-338e-4f69-ab82-02c118e3e8dc",
   "metadata": {},
   "source": [
    "The cumulative distribution function (CDF) gives the probability that a random variable takes a value less than or equal to a specific value.\n",
    "\n",
    "Example: Rolling a Fair Six-Sided Die\n",
    "\n",
    "Gives cumulative probabilities up to a certain point. It provides a more comprehensive view by showing the probability of a random variable being less than or equal to a given value."
   ]
  },
  {
   "cell_type": "markdown",
   "id": "363ba298-6f1c-448e-ad83-aa602b8b0a5b",
   "metadata": {},
   "source": [
    "Q3: What are some examples of situations where the normal distribution might be used as a model? \n",
    "Explain how the parameters of the normal distribution relate to the shape of the distribution.\n"
   ]
  },
  {
   "cell_type": "markdown",
   "id": "e5e3a689-98c3-46aa-a4d9-f489e78adde5",
   "metadata": {},
   "source": [
    "Height of a Population:\n",
    "\n",
    "Human height often follows a normal distribution. Most people cluster around the average height, and as you move away from the mean in either direction, the number of individuals decreases, creating a bell-shaped curve.\n",
    "IQ Scores:\n",
    "\n",
    "Intelligence Quotient (IQ) \n",
    "\n",
    "scores are often modeled using a normal distribution. The mean IQ is set to 100, and the distribution is designed to have a standard deviation of 15. This makes it convenient for understanding the distribution of intelligence in a population."
   ]
  },
  {
   "cell_type": "markdown",
   "id": "80125291-fa9e-4576-a3ee-c5482e1a2409",
   "metadata": {},
   "source": [
    "Q4: Explain the importance of Normal Distribution. Give a few real-life examples of Normal \n",
    "Distribution. \n",
    "\n",
    "\n",
    "Central Limit Theorem (CLT):\n",
    "\n",
    "Basis of CLT, stating that sums/averages of many random variables converge to a normal distribution.\n",
    "\n",
    "Statistical Inference:\n",
    "\n",
    "Used in many statistical methods and tests, simplifying calculations and providing critical values.\n",
    "\n",
    "Grades in a Classroom:\n",
    "\n",
    "The distribution of grades in a large classroom often follows a normal distribution. The majority of students cluster around the average grade, with fewer students achieving extremely high or low scores."
   ]
  },
  {
   "cell_type": "markdown",
   "id": "20e906c5-70d9-4207-bdb1-3c39803157e6",
   "metadata": {},
   "source": [
    "Q5: What is Bernaulli Distribution? Give an Example. What is the difference between Bernoulli \n",
    "Distribution and Binomial Distribution?\n",
    " "
   ]
  },
  {
   "cell_type": "markdown",
   "id": "502c2eed-2253-4bc9-9189-52caa9ba3fa6",
   "metadata": {},
   "source": [
    "Bernoulli Distribution:- It has binary outcomes eg:- pass or fail \n",
    "\n",
    "Binomial Distribution : - The outcomes of this are binary and we are repeating it for n number of times for those kind of distribution we need binomial distribution. \n",
    "\n",
    "number of successes in a fixed number of independent trials binomial distribution."
   ]
  },
  {
   "cell_type": "markdown",
   "id": "21b0dcfe-dd18-4534-84f5-5e9ac7294a95",
   "metadata": {},
   "source": [
    "Q6. Consider a dataset with a mean of 50 and a standard deviation of 10. If we assume that the dataset \n",
    "is normally distributed, what is the probability that a randomly selected observation will be greater \n",
    "than 60? Use the appropriate formula and show your calculations. \n"
   ]
  },
  {
   "cell_type": "markdown",
   "id": "6403e5f6-43fc-4f83-bc54-ad788cbe7b37",
   "metadata": {},
   "source": [
    "Mean = 50 \n",
    "\n",
    "SD = 10\n",
    "\n",
    "X = 60\n",
    "\n",
    "60 - 50 / 10 = 1.0\n",
    "\n",
    "check the z table value with respect to 1.0  the value of 1.0 = 0.84134 = 84.13%"
   ]
  },
  {
   "cell_type": "markdown",
   "id": "8c34d4ce-ac1d-4d51-a91a-85c0f2a96f48",
   "metadata": {},
   "source": [
    "Q7. Explain uniform Distribution with an example"
   ]
  },
  {
   "cell_type": "markdown",
   "id": "be57a013-35ee-4f9f-b8d1-2707869207ef",
   "metadata": {},
   "source": [
    "Ans. \n",
    "The uniform distribution is a probability distribution in which every possible outcome has an equal chance of occurring. It is often visualized as a rectangular-shaped probability density function (PDF), where the heights of all values are the same.\n",
    "\n",
    "Example:-  Rolling a Die"
   ]
  },
  {
   "cell_type": "markdown",
   "id": "ba231d0d-afe2-4c61-9602-88e5fcc8beb8",
   "metadata": {},
   "source": [
    "Q8: What is the z score? State the importance of the z score.\n",
    "\n",
    "Ans. We use Z score to calculate how much far it is away from the mean value and we get standard deviation.\n",
    "Standardization, Relative Position."
   ]
  },
  {
   "cell_type": "markdown",
   "id": "90e32a79-ef06-416d-898a-e7ad1e163507",
   "metadata": {},
   "source": [
    "Q9: What is Central Limit Theorem? State the significance of the Central Limit Theorem.\n",
    "\n"
   ]
  },
  {
   "cell_type": "markdown",
   "id": "25233b84-80a3-40e5-b3b6-14d0d96ca9f1",
   "metadata": {},
   "source": [
    "It states that, regardless of the shape of the original population distribution, the distribution of the sum (or average) of a large number of independent, identically distributed random variables approaches a normal distribution. This holds true even if the original population distribution is not normal."
   ]
  },
  {
   "cell_type": "markdown",
   "id": "74e8018a-680b-49cb-9fd9-26d234fbcb77",
   "metadata": {},
   "source": [
    "Q10: State the assumptions of the Central Limit Theorem\n",
    "\n",
    "Sample Size Adequacy:\n",
    "\n",
    "The CLT is most effective for large sample sizes. While there is no strict rule for what constitutes a \"large\" sample, a common guideline is that a sample size of 30 or greater often leads to a good approximation of a normal distribution.\n",
    "I\n",
    "Independence:\n",
    "\n",
    "The individual observations in the sample must be independent of each other. This means that the occurrence or value of one observation should not influence the occurrence or value of another observation."
   ]
  },
  {
   "cell_type": "code",
   "execution_count": null,
   "id": "e2467edc-434c-4b2b-aaec-05588e268d37",
   "metadata": {},
   "outputs": [],
   "source": []
  }
 ],
 "metadata": {
  "kernelspec": {
   "display_name": "Python 3 (ipykernel)",
   "language": "python",
   "name": "python3"
  },
  "language_info": {
   "codemirror_mode": {
    "name": "ipython",
    "version": 3
   },
   "file_extension": ".py",
   "mimetype": "text/x-python",
   "name": "python",
   "nbconvert_exporter": "python",
   "pygments_lexer": "ipython3",
   "version": "3.10.8"
  }
 },
 "nbformat": 4,
 "nbformat_minor": 5
}
